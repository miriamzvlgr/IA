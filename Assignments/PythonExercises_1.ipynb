{
  "nbformat": 4,
  "nbformat_minor": 0,
  "metadata": {
    "colab": {
      "provenance": [],
      "authorship_tag": "ABX9TyM7KFpv/vIIQxEqL4X1Kydl",
      "include_colab_link": true
    },
    "kernelspec": {
      "name": "python3",
      "display_name": "Python 3"
    },
    "language_info": {
      "name": "python"
    }
  },
  "cells": [
    {
      "cell_type": "markdown",
      "metadata": {
        "id": "view-in-github",
        "colab_type": "text"
      },
      "source": [
        "<a href=\"https://colab.research.google.com/github/miriamzvlgr/IA/blob/main/Assignments/PythonExercises_1.ipynb\" target=\"_parent\"><img src=\"https://colab.research.google.com/assets/colab-badge.svg\" alt=\"Open In Colab\"/></a>"
      ]
    },
    {
      "cell_type": "markdown",
      "source": [
        "Miriam Adriana Zavala Góngora| 1902144| Artificial Intelligence| Thursday N4N6"
      ],
      "metadata": {
        "id": "mrrUTyuxH9M7"
      }
    },
    {
      "cell_type": "code",
      "execution_count": 6,
      "metadata": {
        "colab": {
          "base_uri": "https://localhost:8080/"
        },
        "id": "fDVJFrH1Gb6K",
        "outputId": "45ecdfca-bdf7-4b41-a4dc-64d164c97e81"
      },
      "outputs": [
        {
          "output_type": "stream",
          "name": "stdout",
          "text": [
            "Welcome to the Number Guessing Game!\n",
            "I've picked a random number between 1 and 100. You have 8 attempts to guess it!\n",
            "Enter your guess: 76\n",
            "Try again. Your guess is too high.\n",
            "Enter your guess: 34\n",
            "Try again. Your guess is too high.\n",
            "Enter your guess: 12\n",
            "Try again. Your guess is too low.\n",
            "Enter your guess: 24\n",
            "Try again. Your guess is too low.\n",
            "Enter your guess: 30\n",
            "Try again. Your guess is too high.\n",
            "Enter your guess: 27\n",
            "Try again. Your guess is too low.\n",
            "Enter your guess: 29\n",
            "Congratulations! You guessed the number 29 correctly in 7 attempts!\n"
          ]
        }
      ],
      "source": [
        "import random\n",
        "\n",
        "# Generate a random number between 1 and 100\n",
        "target_number = random.randint(1, 100)\n",
        "\n",
        "# Initialize a variable to keep track of the number of guesses\n",
        "num_guesses = 0\n",
        "\n",
        "# Maximum number of tries\n",
        "max_tries = 8\n",
        "\n",
        "print(\"Welcome to the Number Guessing Game!\")\n",
        "print(f\"I've picked a random number between 1 and 100. You have {max_tries} attempts to guess it!\")\n",
        "\n",
        "while num_guesses < max_tries:\n",
        "    try:\n",
        "        # Get user input for a guess\n",
        "        user_guess = int(input(\"Enter your guess: \"))\n",
        "        num_guesses += 1\n",
        "\n",
        "        # Check if the guess is correct\n",
        "        if user_guess == target_number:\n",
        "            print(f\"Congratulations! You guessed the number {target_number} correctly in {num_guesses} attempts!\")\n",
        "            break\n",
        "        elif user_guess < target_number:\n",
        "            print(\"Try again. Your guess is too low.\")\n",
        "        else:\n",
        "            print(\"Try again. Your guess is too high.\")\n",
        "    except ValueError:\n",
        "        print(\"Invalid input. Please enter a valid number between 1 and 100.\")\n",
        "\n",
        "# If the user couldn't guess the number in the allowed number of tries\n",
        "if num_guesses == max_tries:\n",
        "    print(f\"Sorry, you've run out of attempts. The correct number was {target_number}.\")\n",
        "\n",
        "# End of the game\n",
        "\n"
      ]
    },
    {
      "cell_type": "code",
      "source": [
        "import random\n",
        "\n",
        "# List of words for Hangman\n",
        "word_list = [\"willow\", \"cardigan\", \"seven\", \"style\", \"august\"]\n",
        "\n",
        "# Choose a random word from the list\n",
        "word_to_guess = random.choice(word_list)\n",
        "\n",
        "# Maximum number of attempts\n",
        "max_attempts = 6\n",
        "\n",
        "# Initialize variables\n",
        "guessed_word = [\"_\"] * len(word_to_guess)\n",
        "incorrect_guesses = []\n",
        "attempts = 0\n",
        "\n",
        "print(\"Welcome to Hangman! You have to guess the title of a Taylor Swift song\")\n",
        "\n",
        "while attempts < max_attempts:\n",
        "    # Display the current state of the word\n",
        "    print(\" \".join(guessed_word))\n",
        "\n",
        "    # Get a letter guess from the player\n",
        "    guess = input(\"Guess a letter: \").lower()\n",
        "\n",
        "    # Check if the guess is a single letter\n",
        "    if len(guess) != 1 or not guess.isalpha():\n",
        "        print(\"Please enter a single letter.\")\n",
        "        continue\n",
        "\n",
        "    # Check if the letter has already been guessed\n",
        "    if guess in incorrect_guesses or guess in guessed_word:\n",
        "        print(\"You already guessed that letter.\")\n",
        "        continue\n",
        "\n",
        "    # Check if the guessed letter is in the word\n",
        "    if guess in word_to_guess:\n",
        "        # Update the guessed_word with the correct letter(s)\n",
        "        for i in range(len(word_to_guess)):\n",
        "            if word_to_guess[i] == guess:\n",
        "                guessed_word[i] = guess\n",
        "    else:\n",
        "        # Incorrect guess\n",
        "        incorrect_guesses.append(guess)\n",
        "        attempts += 1\n",
        "        print(f\"Incorrect guesses: {', '.join(incorrect_guesses)}\")\n",
        "\n",
        "    # Check if the player has guessed the whole word\n",
        "    if \"\".join(guessed_word) == word_to_guess:\n",
        "        print(\"Congratulations! You guessed the word: \" + word_to_guess)\n",
        "        break\n",
        "\n",
        "# If the player runs out of attempts\n",
        "if attempts == max_attempts:\n",
        "    print(\"Sorry, you've run out of attempts. The word was: \" + word_to_guess)\n"
      ],
      "metadata": {
        "colab": {
          "base_uri": "https://localhost:8080/"
        },
        "id": "6bVmStQ_ITMu",
        "outputId": "e5f36a44-d7cc-4f85-b663-ba35e2761176"
      },
      "execution_count": 5,
      "outputs": [
        {
          "output_type": "stream",
          "name": "stdout",
          "text": [
            "Welcome to Hangman! You have to guess the title of a Taylor Swift song\n",
            "_ _ _ _ _\n",
            "Guess a letter: w\n",
            "Incorrect guesses: w\n",
            "_ _ _ _ _\n",
            "Guess a letter: f\n",
            "Incorrect guesses: w, f\n",
            "_ _ _ _ _\n",
            "Guess a letter: s\n",
            "s _ _ _ _\n",
            "Guess a letter: e\n",
            "s e _ e _\n",
            "Guess a letter: v\n",
            "s e v e _\n",
            "Guess a letter: n\n",
            "Congratulations! You guessed the word: seven\n"
          ]
        }
      ]
    },
    {
      "cell_type": "code",
      "source": [
        "import re\n",
        "from collections import Counter\n",
        "\n",
        "def read_text_file(file_path):\n",
        "    try:\n",
        "        with open(file_path, 'r', encoding='utf-8') as file:\n",
        "            return file.read()\n",
        "    except FileNotFoundError:\n",
        "        print(\"File not found.\")\n",
        "        return None\n",
        "\n",
        "def analyze_text(text):\n",
        "    if text is None:\n",
        "        return\n",
        "\n",
        "    # Tokenize text into words and sentences\n",
        "    words = re.findall(r'\\b\\w+\\b', text.lower())\n",
        "    sentences = re.split(r'[.!?]', text)\n",
        "    paragraphs = text.split('\\n\\n')\n",
        "\n",
        "    # Count words, sentences, and paragraphs\n",
        "    num_words = len(words)\n",
        "    num_sentences = len(sentences) - 1  # Remove empty string at the end\n",
        "    num_paragraphs = len(paragraphs)\n",
        "\n",
        "    # Calculate average word length\n",
        "    total_word_length = sum(len(word) for word in words)\n",
        "    average_word_length = total_word_length / num_words if num_words > 0 else 0\n",
        "\n",
        "    # Identify most common words and their frequencies\n",
        "    word_counts = Counter(words)\n",
        "    most_common_words = word_counts.most_common(10)  # Get the top 10 most common words\n",
        "\n",
        "    # Display the results\n",
        "    print(f\"Number of words: {num_words}\")\n",
        "    print(f\"Number of sentences: {num_sentences}\")\n",
        "    print(f\"Number of paragraphs: {num_paragraphs}\")\n",
        "    print(f\"Average word length: {average_word_length:.2f} characters\")\n",
        "\n",
        "    print(\"\\nTop 10 most common words and their frequencies:\")\n",
        "    for word, frequency in most_common_words:\n",
        "        print(f\"{word}: {frequency}\")\n",
        "\n",
        "if __name__ == \"__main__\":\n",
        "    file_path = \"LadyLazarusPoem.txt\"  # Replace with the path to your text file\n",
        "    text = read_text_file(file_path)\n",
        "    if text:\n",
        "        analyze_text(text)\n"
      ],
      "metadata": {
        "colab": {
          "base_uri": "https://localhost:8080/"
        },
        "id": "1utr0NAjJqZ4",
        "outputId": "cdb30a62-6fdc-4b6a-cac9-23d911cd44db"
      },
      "execution_count": 1,
      "outputs": [
        {
          "output_type": "stream",
          "name": "stdout",
          "text": [
            "Number of words: 414\n",
            "Number of sentences: 40\n",
            "Number of paragraphs: 28\n",
            "Average word length: 3.62 characters\n",
            "\n",
            "Top 10 most common words and their frequencies:\n",
            "a: 24\n",
            "i: 22\n",
            "the: 22\n",
            "it: 16\n",
            "and: 12\n",
            "my: 11\n",
            "to: 9\n",
            "of: 8\n",
            "do: 7\n",
            "is: 6\n"
          ]
        }
      ]
    }
  ]
}